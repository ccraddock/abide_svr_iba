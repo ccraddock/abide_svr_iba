{
 "cells": [
  {
   "cell_type": "code",
   "execution_count": 13,
   "metadata": {
    "collapsed": true
   },
   "outputs": [],
   "source": [
    "import nibabel as nb\n",
    "import pandas as pd\n",
    "import numpy as np"
   ]
  },
  {
   "cell_type": "code",
   "execution_count": 43,
   "metadata": {
    "collapsed": true
   },
   "outputs": [],
   "source": [
    "mask_img=nb.load(\"cc200.nii.gz\")\n",
    "mask_data=mask_img.get_data().flatten()"
   ]
  },
  {
   "cell_type": "code",
   "execution_count": 44,
   "metadata": {
    "collapsed": true
   },
   "outputs": [],
   "source": [
    "stats=pd.read_csv(\"pred_stats.csv\")"
   ]
  },
  {
   "cell_type": "code",
   "execution_count": 45,
   "metadata": {
    "collapsed": false
   },
   "outputs": [],
   "source": [
    "stats_img=np.zeros((mask_data.size,6))"
   ]
  },
  {
   "cell_type": "code",
   "execution_count": 46,
   "metadata": {
    "collapsed": false
   },
   "outputs": [],
   "source": [
    "for i in range(0,6):\n",
    "    for j in range(1,201):\n",
    "        stats_img[mask_data==j,i]=stats.iloc[j-1,i+2]"
   ]
  },
  {
   "cell_type": "code",
   "execution_count": 48,
   "metadata": {
    "collapsed": false
   },
   "outputs": [
    {
     "data": {
      "text/plain": [
       "array([[ -4.46652898e-05,  -1.12304184e+00,  -1.38204944e+00,\n",
       "          2.39921181e-02,  -8.47386908e-02,  -1.57756027e+00],\n",
       "       [ -4.46652898e-05,  -1.12304184e+00,  -1.38204944e+00,\n",
       "          2.39921181e-02,  -8.47386908e-02,  -1.57756027e+00],\n",
       "       [ -4.46652898e-05,  -1.12304184e+00,  -1.38204944e+00,\n",
       "          2.39921181e-02,  -8.47386908e-02,  -1.57756027e+00],\n",
       "       ..., \n",
       "       [ -4.46652898e-05,  -1.12304184e+00,  -1.38204944e+00,\n",
       "          2.39921181e-02,  -8.47386908e-02,  -1.57756027e+00],\n",
       "       [ -4.46652898e-05,  -1.12304184e+00,  -1.38204944e+00,\n",
       "          2.39921181e-02,  -8.47386908e-02,  -1.57756027e+00],\n",
       "       [ -4.46652898e-05,  -1.12304184e+00,  -1.38204944e+00,\n",
       "          2.39921181e-02,  -8.47386908e-02,  -1.57756027e+00]])"
      ]
     },
     "execution_count": 48,
     "metadata": {},
     "output_type": "execute_result"
    }
   ],
   "source": [
    "stats_img[mask_data==200,:]"
   ]
  },
  {
   "cell_type": "code",
   "execution_count": 52,
   "metadata": {
    "collapsed": false
   },
   "outputs": [
    {
     "data": {
      "text/plain": [
       "(61, 73, 61)"
      ]
     },
     "execution_count": 52,
     "metadata": {},
     "output_type": "execute_result"
    }
   ],
   "source": [
    "mask_img.shape[:]"
   ]
  },
  {
   "cell_type": "code",
   "execution_count": null,
   "metadata": {
    "collapsed": true
   },
   "outputs": [],
   "source": []
  }
 ],
 "metadata": {
  "kernelspec": {
   "display_name": "Python 2",
   "language": "python",
   "name": "python2"
  },
  "language_info": {
   "codemirror_mode": {
    "name": "ipython",
    "version": 2
   },
   "file_extension": ".py",
   "mimetype": "text/x-python",
   "name": "python",
   "nbconvert_exporter": "python",
   "pygments_lexer": "ipython2",
   "version": "2.7.11"
  }
 },
 "nbformat": 4,
 "nbformat_minor": 0
}
