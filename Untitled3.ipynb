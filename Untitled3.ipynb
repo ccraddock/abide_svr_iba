{
 "cells": [
  {
   "cell_type": "code",
   "execution_count": 62,
   "metadata": {
    "collapsed": true
   },
   "outputs": [],
   "source": [
    "import numpy as np\n",
    "from scipy import stats"
   ]
  },
  {
   "cell_type": "code",
   "execution_count": 92,
   "metadata": {
    "collapsed": true
   },
   "outputs": [],
   "source": [
    "X=np.random.rand(1000,150)\n",
    "Y=np.random.rand(1000,150)"
   ]
  },
  {
   "cell_type": "code",
   "execution_count": 100,
   "metadata": {
    "collapsed": false
   },
   "outputs": [],
   "source": [
    "X=stats.zscore(X,1)\n",
    "X=stats.zscore(X,0)\n",
    "XX=X.dot(X.transpose())/X.shape[1]\n",
    "Y=stats.zscore(Y,1)\n",
    "Y=stats.zscore(Y,0)\n",
    "YY=Y.dot(Y.transpose())/Y.shape[1]"
   ]
  },
  {
   "cell_type": "code",
   "execution_count": 94,
   "metadata": {
    "collapsed": false
   },
   "outputs": [],
   "source": [
    "XXp=stats.zscore(XX,1)\n",
    "YYp=stats.zscore(YY,1)"
   ]
  },
  {
   "cell_type": "code",
   "execution_count": 101,
   "metadata": {
    "collapsed": false
   },
   "outputs": [],
   "source": [
    "F=XXp.dot(YYp)/XXp.shape[0]"
   ]
  },
  {
   "cell_type": "code",
   "execution_count": 102,
   "metadata": {
    "collapsed": false
   },
   "outputs": [
    {
     "name": "stdout",
     "output_type": "stream",
     "text": [
      "0.235566295985\n"
     ]
    }
   ],
   "source": [
    "print F.max()"
   ]
  },
  {
   "cell_type": "code",
   "execution_count": 103,
   "metadata": {
    "collapsed": false
   },
   "outputs": [
    {
     "data": {
      "text/plain": [
       "(150, 150)"
      ]
     },
     "execution_count": 103,
     "metadata": {},
     "output_type": "execute_result"
    }
   ],
   "source": [
    "G=np.dot(Xp.transpose(),Yp)\n",
    "G.shape"
   ]
  },
  {
   "cell_type": "code",
   "execution_count": 104,
   "metadata": {
    "collapsed": false
   },
   "outputs": [
    {
     "data": {
      "text/plain": [
       "(150, 1000)"
      ]
     },
     "execution_count": 104,
     "metadata": {},
     "output_type": "execute_result"
    }
   ],
   "source": [
    "G=np.dot(G,Yp.transpose())\n",
    "G.shape"
   ]
  },
  {
   "cell_type": "code",
   "execution_count": 105,
   "metadata": {
    "collapsed": false
   },
   "outputs": [
    {
     "data": {
      "text/plain": [
       "(1000, 1000)"
      ]
     },
     "execution_count": 105,
     "metadata": {},
     "output_type": "execute_result"
    }
   ],
   "source": [
    "G=np.dot(Xp,G)\n",
    "G.shape"
   ]
  },
  {
   "cell_type": "code",
   "execution_count": 108,
   "metadata": {
    "collapsed": false
   },
   "outputs": [
    {
     "data": {
      "text/plain": [
       "array([[ 0.74332593, -0.04566969,  0.12927387, ..., -0.12753951,\n",
       "         0.22054393, -0.32427418],\n",
       "       [-0.13873063,  0.90221861, -0.26592731, ..., -0.08900244,\n",
       "        -0.14459542,  0.09500213],\n",
       "       [ 0.14072309, -0.66771202,  1.26678022, ..., -0.15141824,\n",
       "         0.17000326,  0.23956157],\n",
       "       ..., \n",
       "       [ 0.16781909,  0.04483284, -0.16283187, ...,  0.7861011 ,\n",
       "         0.1148046 ,  0.06214764],\n",
       "       [-0.25530331, -0.03564317,  0.09316646, ..., -0.11153481,\n",
       "         0.95745733, -0.34360169],\n",
       "       [-0.2610254 , -0.13876379, -0.35698977, ..., -0.4843925 ,\n",
       "        -0.25984041,  1.15829384]])"
      ]
     },
     "execution_count": 108,
     "metadata": {},
     "output_type": "execute_result"
    }
   ],
   "source": [
    "G/(150*150)"
   ]
  },
  {
   "cell_type": "code",
   "execution_count": null,
   "metadata": {
    "collapsed": true
   },
   "outputs": [],
   "source": []
  }
 ],
 "metadata": {
  "kernelspec": {
   "display_name": "Python 2",
   "language": "python",
   "name": "python2"
  },
  "language_info": {
   "codemirror_mode": {
    "name": "ipython",
    "version": 2
   },
   "file_extension": ".py",
   "mimetype": "text/x-python",
   "name": "python",
   "nbconvert_exporter": "python",
   "pygments_lexer": "ipython2",
   "version": "2.7.11"
  }
 },
 "nbformat": 4,
 "nbformat_minor": 0
}
